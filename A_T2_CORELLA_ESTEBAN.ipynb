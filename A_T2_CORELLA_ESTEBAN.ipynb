{
  "nbformat": 4,
  "nbformat_minor": 0,
  "metadata": {
    "colab": {
      "provenance": [],
      "authorship_tag": "ABX9TyOOzEWVvyWLnABQ0uJU9kXo",
      "include_colab_link": true
    },
    "kernelspec": {
      "name": "python3",
      "display_name": "Python 3"
    },
    "language_info": {
      "name": "python"
    }
  },
  "cells": [
    {
      "cell_type": "markdown",
      "metadata": {
        "id": "view-in-github",
        "colab_type": "text"
      },
      "source": [
        "<a href=\"https://colab.research.google.com/github/Esteban0309/hola-mundo/blob/main/A_T2_CORELLA_ESTEBAN.ipynb\" target=\"_parent\"><img src=\"https://colab.research.google.com/assets/colab-badge.svg\" alt=\"Open In Colab\"/></a>"
      ]
    },
    {
      "cell_type": "markdown",
      "source": [
        "# **TRABAJO 2**\n",
        "## TEGNOLOGIAS DE LA INFORMACION Y COMUNICACION\n",
        "### UNIDAD 3 - HERRAMIENTAS COLABORATIVAS EN LINEA\n",
        "\n",
        "---"
      ],
      "metadata": {
        "id": "WFnbews90UPT"
      }
    },
    {
      "cell_type": "markdown",
      "source": [
        "**TRABAJO 2 TIC**\n"
      ],
      "metadata": {
        "id": "7C5bgyETppKh"
      }
    },
    {
      "cell_type": "markdown",
      "source": [
        "1. **Hola Mundo: Escribe un programa que imprima \"Hola, Mundo!\" en la pantalla.**"
      ],
      "metadata": {
        "id": "gFfqqxW8qmmq"
      }
    },
    {
      "cell_type": "code",
      "source": [
        "# Pedimos al programa que imprima una frase.\n",
        "print('hola mundo')\n"
      ],
      "metadata": {
        "colab": {
          "base_uri": "https://localhost:8080/"
        },
        "id": "DDinK34KpuW6",
        "outputId": "cedaf612-cecb-4142-d09a-2fad7fdf8f06"
      },
      "execution_count": 2,
      "outputs": [
        {
          "output_type": "stream",
          "name": "stdout",
          "text": [
            "hola mundo\n"
          ]
        }
      ]
    },
    {
      "cell_type": "markdown",
      "source": [
        "**2. Suma de dos números: Escribe un programa que pida al usuario dos números y los sume.**"
      ],
      "metadata": {
        "id": "w0nJNPp1qi4B"
      }
    },
    {
      "cell_type": "code",
      "source": [
        "# Solicitamos al usuario 2 numeros\n",
        "num1 = int(input('ingrese un numero'))\n",
        "num2 = int(input('ingrese otro numero'))\n",
        "# Pedimos al programa que realice una suma de los 2 numeros pedidos anteriormente.\n",
        "suma = num1 + num2\n",
        "# Imprimimos la variable suma la cual nos va a dar el resultado.\n",
        "print(suma)"
      ],
      "metadata": {
        "colab": {
          "base_uri": "https://localhost:8080/"
        },
        "id": "C-mZsm1qrAYV",
        "outputId": "36fc478f-b7c5-47cf-926a-4c9924dc4999"
      },
      "execution_count": 4,
      "outputs": [
        {
          "output_type": "stream",
          "name": "stdout",
          "text": [
            "ingrese un numero2\n",
            "ingrese otro numero2\n",
            "4\n"
          ]
        }
      ]
    },
    {
      "cell_type": "markdown",
      "source": [
        "**3. Par o Impar: Escribe un programa que determine si un número introducido por el usuario es par o impar.**"
      ],
      "metadata": {
        "id": "K6qoBdCZrhY5"
      }
    },
    {
      "cell_type": "code",
      "source": [
        "# Pedimos al usuario que ingrese un numero\n",
        "numero = int(input('Ingrese un numero '))\n",
        "# Verificamos si el numero es par o impar.\n",
        "if numero % 2 ==0:\n",
        "  print('El numero es par')\n",
        "else:\n",
        "  print('El numero es impar')"
      ],
      "metadata": {
        "colab": {
          "base_uri": "https://localhost:8080/"
        },
        "id": "fEivUFJfruUN",
        "outputId": "acc4c333-69b6-447a-e382-1265f6812e37"
      },
      "execution_count": 5,
      "outputs": [
        {
          "output_type": "stream",
          "name": "stdout",
          "text": [
            "Ingrese un numero 4\n",
            "El numero es par\n"
          ]
        }
      ]
    },
    {
      "cell_type": "markdown",
      "source": [
        "4. Calculadora básica: Escribe un programa que realice operaciones básicas (suma, resta, multiplicación y división) entre dos números introducidos por el usuario.\n",
        "**texto en negrita**"
      ],
      "metadata": {
        "id": "-L0cIoXfstSD"
      }
    },
    {
      "cell_type": "code",
      "source": [
        "def suma (num1,num2):\n",
        "  return num1 + num2\n",
        "\n",
        "def resta (num1,num2):\n",
        "  return num1 - num2\n",
        "\n",
        "def multiplicacion (num1,num2):\n",
        "  return num1 * num2\n",
        "\n",
        "def dividir (num1,num2):\n",
        "  return num1 / num2\n",
        "\n",
        "num1 = int(input('ingrese un numero'))\n",
        "num2 = int(input('ingrese otro numero'))\n",
        "\n",
        "print(\"Seleccione la operación a realizar:\")\n",
        "print(\"1. Suma\")\n",
        "print(\"2. Resta\")\n",
        "print(\"3. Multiplicación\")\n",
        "print(\"4. División\")\n",
        "\n",
        "operacion = input('Selecione una operacion(1,2,3,4): ')\n",
        "\n",
        "if operacion == \"1\":\n",
        "    print(f\"La suma de {num1} y {num2} es {suma(num1, num2)}\")\n",
        "elif operacion == \"2\":\n",
        "    print(f\"La resta de {num1} y {num2} es {resta(num1, num2)}\")\n",
        "elif operacion == \"3\":\n",
        "    print(f\"La multiplicación de {num1} y {num2} es {multiplicacion(num1, num2)}\")\n",
        "elif operacion == \"4\":\n",
        "    print(f\"La división de {num1} y {num2} es {division(num1, num2)}\")\n",
        "else:\n",
        "    print(\"Error: operación no válida\")"
      ],
      "metadata": {
        "colab": {
          "base_uri": "https://localhost:8080/"
        },
        "id": "IsXU-VnxtW2x",
        "outputId": "5e94210c-2390-4601-87ca-a3f4dfc8c881"
      },
      "execution_count": 11,
      "outputs": [
        {
          "output_type": "stream",
          "name": "stdout",
          "text": [
            "ingrese un numero2\n",
            "ingrese otro numero2\n",
            "Seleccione la operación a realizar:\n",
            "1. Suma\n",
            "2. Resta\n",
            "3. Multiplicación\n",
            "4. División\n",
            "Selecione una operacion(1,2,3,4): 1\n",
            "La suma de 2 y 2 es 4\n"
          ]
        }
      ]
    },
    {
      "cell_type": "markdown",
      "source": [
        "**5. Número mayor: Escribe un programa que pida tres números al usuario y determine cuál es el mayor.**"
      ],
      "metadata": {
        "id": "8MamU2iKvZFl"
      }
    },
    {
      "cell_type": "code",
      "source": [
        "# Solicitamos al usuario 3 numeros\n",
        "num1 = int(input('ingrese un numero'))\n",
        "num2 = int(input('ingrese un numero'))\n",
        "num3 = int(input('ingrese un numero'))\n",
        "\n",
        "# Creamos una variable que no de el numero mayor con ayuda del (comando max) el cual nos va ayudar a ver que numero es el mayor de manera sencilla.\n",
        "num_mayor = max(num1,num2,num3)\n",
        "\n",
        "# Imprimimos\n",
        "print('El numero mayor es: ', num_mayor)"
      ],
      "metadata": {
        "colab": {
          "base_uri": "https://localhost:8080/"
        },
        "id": "vr2xgFW0vd90",
        "outputId": "fef67a96-f12e-4954-fe07-aa1b66729d6e"
      },
      "execution_count": 13,
      "outputs": [
        {
          "output_type": "stream",
          "name": "stdout",
          "text": [
            "ingrese un numero2\n",
            "ingrese un numero4\n",
            "ingrese un numero6\n",
            "El numero mayor es:  6\n"
          ]
        }
      ]
    },
    {
      "cell_type": "markdown",
      "source": [
        "**6. Cálculo del área de un círculo: Escribe un programa que calcule el área de un círculo a partir de su radio, ingresado por el usuario.**"
      ],
      "metadata": {
        "id": "0IRxdIkFwvaz"
      }
    },
    {
      "cell_type": "markdown",
      "source": [],
      "metadata": {
        "id": "b1gNyHlos7wi"
      }
    },
    {
      "cell_type": "code",
      "source": [
        "#importamos el modulo math para asi poder calcular el area del circulo utilizando la constante pi.\n",
        "import math\n",
        "\n",
        "# Utilizamos una funcion para calcular el area del circulo, utilizando la formula a=math.pi*(r**2)\n",
        "def calcular_area(radio):\n",
        "    area = math.pi * (radio ** 2)\n",
        "    return area\n",
        "# Solicitamos al usuario que ingrese el radio del circulo.\n",
        "radio = int(input(\"Ingrese el radio del círculo: \"))\n",
        "area = calcular_area(radio)\n",
        "# Imprimimos el area del circulo\n",
        "print(f\"El área del círculo es: {area:.2f}\")"
      ],
      "metadata": {
        "colab": {
          "base_uri": "https://localhost:8080/"
        },
        "id": "Ff4LnM7ys1iM",
        "outputId": "dc90baf6-e035-45bf-d1f0-e11d77819599"
      },
      "execution_count": 14,
      "outputs": [
        {
          "output_type": "stream",
          "name": "stdout",
          "text": [
            "Ingrese el radio del círculo: 25\n",
            "El área del círculo es: 1963.50\n"
          ]
        }
      ]
    },
    {
      "cell_type": "markdown",
      "source": [
        "**7. Conversión de grados Celsius a Fahrenheit: Escribe un programa que convierta una temperatura dada en grados Celsius a grados Fahrenheit.**"
      ],
      "metadata": {
        "id": "kNPU7ym1yh8H"
      }
    },
    {
      "cell_type": "code",
      "source": [
        "# Utilizamos una funcion, para calcular la temperatura en grados Fahrenheit utilizando la fórmula F = (C × 9/5) + 32\n",
        "def celsius_a_fahrenheit(celsius):\n",
        "    fahrenheit = (celsius * 9/5) + 32\n",
        "    return fahrenheit\n",
        "# Solicitamos al usuario ingrese ls temperatura en grados Celsius\n",
        "celsius = int(input(\"Ingrese la temperatura en grados Celsius: \"))\n",
        "fahrenheit = celsius_a_fahrenheit(celsius)\n",
        "# Solicitamos al usuario imprimir la temperaturan en grados fahrenheit.\n",
        "print(f\"La temperatura en grados Fahrenheit es: {fahrenheit:.2f}\")"
      ],
      "metadata": {
        "colab": {
          "base_uri": "https://localhost:8080/"
        },
        "id": "d8__c-3kyxoX",
        "outputId": "d3e2892f-a21e-41be-d208-3a000f02c77a"
      },
      "execution_count": 15,
      "outputs": [
        {
          "output_type": "stream",
          "name": "stdout",
          "text": [
            "Ingrese la temperatura en grados Celsius: 14\n",
            "La temperatura en grados Fahrenheit es: 57.20\n"
          ]
        }
      ]
    },
    {
      "cell_type": "markdown",
      "source": [
        "**8. Cuenta atrás: Escribe un programa que cuente hacia atrás desde 10 hasta 0.**"
      ],
      "metadata": {
        "id": "bHH2yalt2F_S"
      }
    },
    {
      "cell_type": "code",
      "source": [
        "# Solicitamos al usuario un bucle que vaya de 10 a 0\n",
        "for cuenta_regresiva in range(10, -1, -1):\n",
        "  # imprimimos el valor actual de i\n",
        "    print(cuenta_regresiva)\n"
      ],
      "metadata": {
        "colab": {
          "base_uri": "https://localhost:8080/"
        },
        "id": "umuXgdHxrpVv",
        "outputId": "d4dfefd3-dd30-49cd-ceff-0432ae88dc4c"
      },
      "execution_count": 21,
      "outputs": [
        {
          "output_type": "stream",
          "name": "stdout",
          "text": [
            "10\n",
            "9\n",
            "8\n",
            "7\n",
            "6\n",
            "5\n",
            "4\n",
            "3\n",
            "2\n",
            "1\n",
            "0\n"
          ]
        }
      ]
    },
    {
      "cell_type": "markdown",
      "source": [
        "**9. Tabla de multiplicar: Escribe un programa que muestre la tabla de multiplicar de un número introducido por el usuario**"
      ],
      "metadata": {
        "id": "djOfSW5e214J"
      }
    },
    {
      "cell_type": "code",
      "source": [
        "# Pedimos al usuario que ingrese un número\n",
        "numero = int(input(\"Ingrese un número: \"))\n",
        "# Creamos un bucle que sea desde 1 hasta 12, es decir, los numeros por los que queremos que se realice la multiplicacion.\n",
        "for i in range(1, 13):\n",
        "# Calculamos la respuesta de la multiplicación\n",
        "    producto = numero * i\n",
        "# Imprimimos la operación y el resultado\n",
        "    print(f\"{numero} x {i} = {producto}\")"
      ],
      "metadata": {
        "colab": {
          "base_uri": "https://localhost:8080/"
        },
        "id": "BOmhFu2U3BrC",
        "outputId": "b46c92b8-ac9f-41b5-e02d-4bc9022654b5"
      },
      "execution_count": 24,
      "outputs": [
        {
          "output_type": "stream",
          "name": "stdout",
          "text": [
            "Ingrese un número: 12\n",
            "12 x 1 = 12\n",
            "12 x 2 = 24\n",
            "12 x 3 = 36\n",
            "12 x 4 = 48\n",
            "12 x 5 = 60\n",
            "12 x 6 = 72\n",
            "12 x 7 = 84\n",
            "12 x 8 = 96\n",
            "12 x 9 = 108\n",
            "12 x 10 = 120\n",
            "12 x 11 = 132\n",
            "12 x 12 = 144\n"
          ]
        }
      ]
    },
    {
      "cell_type": "markdown",
      "source": [
        "**10. primos: Escribe un programa que determine si un número introducido por el usuario es primo.**"
      ],
      "metadata": {
        "id": "joqrDpx_v96H"
      }
    },
    {
      "cell_type": "code",
      "source": [
        "# Utilizamos una funcion y ponemos restricciones para saber si es primo o no\n",
        "def es_primo(n):\n",
        "    if n <= 1:\n",
        "        return False\n",
        "    for i in range(2, int(n ** 0.5) + 1):\n",
        "        if n % i == 0:\n",
        "            return False\n",
        "    return True\n",
        "# Solicitamos al usuario que ingrese un numero\n",
        "numero = int(input(\"Introduce un número: \"))\n",
        "# Damos normas para imprimir si el numero es primo o no.\n",
        "if es_primo(numero):\n",
        "    print(f\"El número {numero} es primo.\")\n",
        "else:\n",
        "    print(f\"El número {numero} no es primo.\")"
      ],
      "metadata": {
        "colab": {
          "base_uri": "https://localhost:8080/"
        },
        "id": "RtJUk13qwFBr",
        "outputId": "b271cb45-9800-404c-fb1b-44b80ad2b2a6"
      },
      "execution_count": 25,
      "outputs": [
        {
          "output_type": "stream",
          "name": "stdout",
          "text": [
            "Introduce un número: 5\n",
            "El número 5 es primo.\n"
          ]
        }
      ]
    },
    {
      "cell_type": "markdown",
      "source": [
        "**11. Sumar números hasta un límite: Escribe un programa que sume todos los números naturales hasta un número límite introducido por el usuario.**"
      ],
      "metadata": {
        "id": "a0JeashXxAuo"
      }
    },
    {
      "cell_type": "code",
      "source": [
        "limite = int(input(\"Introduce un número límite: \"))\n",
        "suma = 0\n",
        "for i in range(1, limite + 1):\n",
        "    suma += i\n",
        "print(f\"La suma de todos los números naturales hasta {limite} es {suma}\")"
      ],
      "metadata": {
        "colab": {
          "base_uri": "https://localhost:8080/"
        },
        "id": "JBcD2n7YxOoM",
        "outputId": "d0a0e0b4-ca34-4f12-bc07-ae354ada395a"
      },
      "execution_count": 28,
      "outputs": [
        {
          "output_type": "stream",
          "name": "stdout",
          "text": [
            "Introduce un número límite: 3\n",
            "La suma de todos los números naturales hasta 3 es 6\n"
          ]
        }
      ]
    },
    {
      "cell_type": "markdown",
      "source": [
        "**12. Invertir una cadena: Escribe un programa que invierta una cadena introducida por el usuario.**"
      ],
      "metadata": {
        "id": "DEFgrcJTzBom"
      }
    },
    {
      "cell_type": "code",
      "source": [
        "# Solitamos al usuario que ingrese una cadena\n",
        "cadena = input(\"Introduce una cadena: \")\n",
        "# Solicitamos que devuelva la cadena original, pero con los caracteres en orden inverso.\n",
        "cadena_invertida = cadena[::-1]\n",
        "# Imprimimos la cadena invertida\n",
        "print(f\"La cadena invertida es: {cadena_invertida}\")"
      ],
      "metadata": {
        "colab": {
          "base_uri": "https://localhost:8080/"
        },
        "id": "d99CPStKzM8Z",
        "outputId": "5dc9eb30-3dcc-4347-de20-79395379fbd3"
      },
      "execution_count": 29,
      "outputs": [
        {
          "output_type": "stream",
          "name": "stdout",
          "text": [
            "Introduce una cadena: hola, 1,5,6\n",
            "La cadena invertida es: 6,5,1 ,aloh\n"
          ]
        }
      ]
    },
    {
      "cell_type": "markdown",
      "source": [
        "**13. Contar vocales: Escribe un programa que cuente el número de vocales en una cadena introducida por el usuario.**"
      ],
      "metadata": {
        "id": "kpc4nxuZxMai"
      }
    },
    {
      "cell_type": "code",
      "source": [
        "# Solicitamo al usuario ingrese uan cadena de texto\n",
        "cadena = input(\"Introduce una cadena: \")\n",
        "# Definimos una variable que contenga las vocales mayusculas y minusculas\n",
        "vocales = \"aeiouAEIOU\"\n",
        "contador_vocales = 0\n",
        "# Utilizamos un bucle que me ayude a contar las vocales\n",
        "for caracter in cadena:\n",
        "    if caracter in vocales:\n",
        "        contador_vocales += 1\n",
        "# Imprimimos la cantidad de vocales que tiene la cadena de texto ingresada anteriormente\n",
        "print(f\"La cadena tiene {contador_vocales} vocales\")"
      ],
      "metadata": {
        "colab": {
          "base_uri": "https://localhost:8080/"
        },
        "id": "VkJWFj7exLf-",
        "outputId": "89e58e82-0695-41a2-b882-e348b3542c3b"
      },
      "execution_count": 3,
      "outputs": [
        {
          "output_type": "stream",
          "name": "stdout",
          "text": [
            "Introduce una cadena: Eres magnifico\n",
            "La cadena tiene 6 vocales\n"
          ]
        }
      ]
    },
    {
      "cell_type": "markdown",
      "source": [
        "**14. Palíndromo: Escribe un programa que determine si una cadena introducida por el usuario es un palíndromo.**"
      ],
      "metadata": {
        "id": "QNVbK5VYyduM"
      }
    },
    {
      "cell_type": "code",
      "source": [
        "cadena = input(\"Introduce una cadena: \")\n",
        "\n",
        "cadena_sin_espacios = cadena.replace(\" \", \"\")\n",
        "\n",
        "if cadena_sin_espacios == cadena_sin_espacios[::-1]:\n",
        "    print(\"La cadena es un palíndromo\")\n",
        "else:\n",
        "    print(\"La cadena no es un palíndromo\")"
      ],
      "metadata": {
        "colab": {
          "base_uri": "https://localhost:8080/"
        },
        "id": "WCcDFfMfymWo",
        "outputId": "ad9f024d-fde1-4e7f-f363-7b194260e2e7"
      },
      "execution_count": 8,
      "outputs": [
        {
          "output_type": "stream",
          "name": "stdout",
          "text": [
            "Introduce una cadena: oso\n",
            "La cadena es un palíndromo\n"
          ]
        }
      ]
    },
    {
      "cell_type": "markdown",
      "source": [
        "**15. Factorial de un número: Escribe un programa que calcule el factorial de un número introducido por el usuario.**"
      ],
      "metadata": {
        "id": "sAUfvXGY1uMw"
      }
    },
    {
      "cell_type": "code",
      "source": [
        "def factorial(n):\n",
        "    result = 1\n",
        "    for i in range(2, n + 1):\n",
        "        result *= i\n",
        "    return result\n",
        "\n",
        "num = int(input(\"Introduce un número: \"))\n",
        "print(\"El factorial de\", num, \"es\", factorial(num))"
      ],
      "metadata": {
        "colab": {
          "base_uri": "https://localhost:8080/"
        },
        "id": "ZqIT0bun09y_",
        "outputId": "96cb4728-ec66-47af-a26a-37dbc4e21877"
      },
      "execution_count": 10,
      "outputs": [
        {
          "output_type": "stream",
          "name": "stdout",
          "text": [
            "Introduce un número: 7\n",
            "El factorial de 7 es 5040\n"
          ]
        }
      ]
    },
    {
      "cell_type": "markdown",
      "source": [
        "**16. Generar números aleatorios: Escribe un programa que genere y muestre 5 números aleatorios entre 1 y 100.**"
      ],
      "metadata": {
        "id": "D23Q9QF-2MFy"
      }
    },
    {
      "cell_type": "code",
      "source": [
        "# Importamos el modulo random\n",
        "import random\n",
        "\n",
        "# Generamos 5 números aleatorios entre 1 y 100\n",
        "numeros_aleatorios = [random.randint(1, 100) for var in range(5)]\n",
        "\n",
        "print(\"Los 5 números aleatorios son:\")\n",
        "for i, num in enumerate(numeros_aleatorios, 1):\n",
        "    print(f\"Número {i}: {num}\")"
      ],
      "metadata": {
        "colab": {
          "base_uri": "https://localhost:8080/"
        },
        "id": "1TFwQBOq1-ei",
        "outputId": "712d425e-3b4b-4000-ccc1-7e00ff09b16a"
      },
      "execution_count": 17,
      "outputs": [
        {
          "output_type": "stream",
          "name": "stdout",
          "text": [
            "Los 5 números aleatorios son:\n",
            "Número 1: 33\n",
            "Número 2: 94\n",
            "Número 3: 75\n",
            "Número 4: 91\n",
            "Número 5: 10\n"
          ]
        }
      ]
    },
    {
      "cell_type": "markdown",
      "source": [
        "**17. Calculadora de índice de masa corporal (IMC): Escribe un programa que calcule el índice de masa corporal (IMC) a partir del peso y la altura introducidos por el usuario.**"
      ],
      "metadata": {
        "id": "ZIeqXwMA6V2n"
      }
    },
    {
      "cell_type": "code",
      "source": [
        "# Solicitamos al usuario ingresar su peso y altura\n",
        "peso = float(input(\"Introduce tu peso en kilogramos: \"))\n",
        "altura = float(input(\"Introduce tu altura en metros: \"))\n",
        "# Escribimos la formula a utilizar\n",
        "imc = peso / (altura ** 2)\n",
        "#Clasificamos el imc\n",
        "if imc < 18.5:\n",
        "    clasificacion = \"Bajo peso\"\n",
        "elif imc < 25:\n",
        "    clasificacion = \"Peso normal\"\n",
        "elif imc < 30:\n",
        "    clasificacion = \"Sobrepeso\"\n",
        "else:\n",
        "    clasificacion = \"Obesidad\"\n",
        "# Mostramos el resultado dependiendo el peso y altura del usuario\n",
        "print(f\"Tu índice de masa corporal (IMC) es: {imc:.2f}\")\n",
        "print(f\"Tu clasificación es: {clasificacion}\")"
      ],
      "metadata": {
        "colab": {
          "base_uri": "https://localhost:8080/"
        },
        "id": "a7RAqPFV6c03",
        "outputId": "95846962-82fd-437c-8b28-f14559745428"
      },
      "execution_count": 20,
      "outputs": [
        {
          "output_type": "stream",
          "name": "stdout",
          "text": [
            "Introduce tu peso en kilogramos: 70\n",
            "Introduce tu altura en metros: 1.69\n",
            "Tu índice de masa corporal (IMC) es: 24.51\n",
            "Tu clasificación es: Peso normal\n"
          ]
        }
      ]
    }
  ]
}