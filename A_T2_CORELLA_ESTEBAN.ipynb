{
  "nbformat": 4,
  "nbformat_minor": 0,
  "metadata": {
    "colab": {
      "provenance": [],
      "authorship_tag": "ABX9TyNUl4H9iApQxlcPaRoZCHpv",
      "include_colab_link": true
    },
    "kernelspec": {
      "name": "python3",
      "display_name": "Python 3"
    },
    "language_info": {
      "name": "python"
    }
  },
  "cells": [
    {
      "cell_type": "markdown",
      "metadata": {
        "id": "view-in-github",
        "colab_type": "text"
      },
      "source": [
        "<a href=\"https://colab.research.google.com/github/Esteban0309/hola-mundo/blob/main/A_T2_CORELLA_ESTEBAN.ipynb\" target=\"_parent\"><img src=\"https://colab.research.google.com/assets/colab-badge.svg\" alt=\"Open In Colab\"/></a>"
      ]
    },
    {
      "cell_type": "code",
      "execution_count": null,
      "metadata": {
        "id": "WNp7Pd9ipd-t"
      },
      "outputs": [],
      "source": []
    },
    {
      "cell_type": "markdown",
      "source": [
        "**TRABAJO 2 TIC**\n"
      ],
      "metadata": {
        "id": "7C5bgyETppKh"
      }
    },
    {
      "cell_type": "markdown",
      "source": [
        "1. **Hola Mundo: Escribe un programa que imprima \"Hola, Mundo!\" en la pantalla.**"
      ],
      "metadata": {
        "id": "gFfqqxW8qmmq"
      }
    },
    {
      "cell_type": "code",
      "source": [
        "print('hola mundo')"
      ],
      "metadata": {
        "colab": {
          "base_uri": "https://localhost:8080/"
        },
        "id": "DDinK34KpuW6",
        "outputId": "cedaf612-cecb-4142-d09a-2fad7fdf8f06"
      },
      "execution_count": 2,
      "outputs": [
        {
          "output_type": "stream",
          "name": "stdout",
          "text": [
            "hola mundo\n"
          ]
        }
      ]
    },
    {
      "cell_type": "markdown",
      "source": [
        "2.** Suma de dos números: Escribe un programa que pida al usuario dos números y los sume.**"
      ],
      "metadata": {
        "id": "w0nJNPp1qi4B"
      }
    },
    {
      "cell_type": "code",
      "source": [
        "num1 = int(input('ingrese un numero'))\n",
        "num2 = int(input('ingrese otro numero'))\n",
        "\n",
        "suma = num1 + num2\n",
        "print(suma)"
      ],
      "metadata": {
        "colab": {
          "base_uri": "https://localhost:8080/"
        },
        "id": "C-mZsm1qrAYV",
        "outputId": "36fc478f-b7c5-47cf-926a-4c9924dc4999"
      },
      "execution_count": 4,
      "outputs": [
        {
          "output_type": "stream",
          "name": "stdout",
          "text": [
            "ingrese un numero2\n",
            "ingrese otro numero2\n",
            "4\n"
          ]
        }
      ]
    },
    {
      "cell_type": "markdown",
      "source": [
        "**3. Par o Impar: Escribe un programa que determine si un número introducido por el usuario es par o impar.**"
      ],
      "metadata": {
        "id": "K6qoBdCZrhY5"
      }
    },
    {
      "cell_type": "code",
      "source": [
        "numero = int(input('Ingrese un numero '))\n",
        "\n",
        "if numero % 2 ==0:\n",
        "  print('El numero es par')\n",
        "else:\n",
        "  print('El numero es impar')"
      ],
      "metadata": {
        "colab": {
          "base_uri": "https://localhost:8080/"
        },
        "id": "fEivUFJfruUN",
        "outputId": "acc4c333-69b6-447a-e382-1265f6812e37"
      },
      "execution_count": 5,
      "outputs": [
        {
          "output_type": "stream",
          "name": "stdout",
          "text": [
            "Ingrese un numero 4\n",
            "El numero es par\n"
          ]
        }
      ]
    },
    {
      "cell_type": "markdown",
      "source": [
        "4. Calculadora básica: Escribe un programa que realice operaciones básicas (suma, resta, multiplicación y división) entre dos números introducidos por el usuario.\n",
        "**texto en negrita**"
      ],
      "metadata": {
        "id": "-L0cIoXfstSD"
      }
    },
    {
      "cell_type": "code",
      "source": [
        "def suma (num1,num2):\n",
        "  return num1 + num2\n",
        "\n",
        "def resta (num1,num2):\n",
        "  return num1 - num2\n",
        "\n",
        "def multiplicacion (num1,num2):\n",
        "  return num1 * num2\n",
        "\n",
        "def dividir (num1,num2):\n",
        "  return num1 / num2\n",
        "\n",
        "num1 = int(input('ingrese un numero'))\n",
        "num2 = int(input('ingrese otro numero'))\n",
        "\n",
        "print(\"Seleccione la operación a realizar:\")\n",
        "print(\"1. Suma\")\n",
        "print(\"2. Resta\")\n",
        "print(\"3. Multiplicación\")\n",
        "print(\"4. División\")\n",
        "\n",
        "operacion = input('Selecione una operacion(1,2,3,4): ')\n",
        "\n",
        "if operacion == \"1\":\n",
        "    print(f\"La suma de {num1} y {num2} es {suma(num1, num2)}\")\n",
        "elif operacion == \"2\":\n",
        "    print(f\"La resta de {num1} y {num2} es {resta(num1, num2)}\")\n",
        "elif operacion == \"3\":\n",
        "    print(f\"La multiplicación de {num1} y {num2} es {multiplicacion(num1, num2)}\")\n",
        "elif operacion == \"4\":\n",
        "    print(f\"La división de {num1} y {num2} es {division(num1, num2)}\")\n",
        "else:\n",
        "    print(\"Error: operación no válida\")"
      ],
      "metadata": {
        "colab": {
          "base_uri": "https://localhost:8080/"
        },
        "id": "IsXU-VnxtW2x",
        "outputId": "5e94210c-2390-4601-87ca-a3f4dfc8c881"
      },
      "execution_count": 11,
      "outputs": [
        {
          "output_type": "stream",
          "name": "stdout",
          "text": [
            "ingrese un numero2\n",
            "ingrese otro numero2\n",
            "Seleccione la operación a realizar:\n",
            "1. Suma\n",
            "2. Resta\n",
            "3. Multiplicación\n",
            "4. División\n",
            "Selecione una operacion(1,2,3,4): 1\n",
            "La suma de 2 y 2 es 4\n"
          ]
        }
      ]
    },
    {
      "cell_type": "markdown",
      "source": [
        "**5. Número mayor: Escribe un programa que pida tres números al usuario y determine cuál es el mayor.**"
      ],
      "metadata": {
        "id": "8MamU2iKvZFl"
      }
    },
    {
      "cell_type": "code",
      "source": [
        "num1 = int(input('ingrese un numero'))\n",
        "num2 = int(input('ingrese un numero'))\n",
        "num3 = int(input('ingrese un numero'))\n",
        "\n",
        "num_mayor = max(num1,num2,num3)\n",
        "print('El numero mayor es: ', num_mayor)"
      ],
      "metadata": {
        "colab": {
          "base_uri": "https://localhost:8080/"
        },
        "id": "vr2xgFW0vd90",
        "outputId": "fef67a96-f12e-4954-fe07-aa1b66729d6e"
      },
      "execution_count": 13,
      "outputs": [
        {
          "output_type": "stream",
          "name": "stdout",
          "text": [
            "ingrese un numero2\n",
            "ingrese un numero4\n",
            "ingrese un numero6\n",
            "El numero mayor es:  6\n"
          ]
        }
      ]
    },
    {
      "cell_type": "markdown",
      "source": [
        "**6. Cálculo del área de un círculo: Escribe un programa que calcule el área de un círculo a partir de su radio, ingresado por el usuario.**"
      ],
      "metadata": {
        "id": "0IRxdIkFwvaz"
      }
    },
    {
      "cell_type": "markdown",
      "source": [],
      "metadata": {
        "id": "b1gNyHlos7wi"
      }
    },
    {
      "cell_type": "code",
      "source": [
        "import math\n",
        "\n",
        "def calcular_area(radio):\n",
        "    area = math.pi * (radio ** 2)\n",
        "    return area\n",
        "\n",
        "radio = int(input(\"Ingrese el radio del círculo: \"))\n",
        "area = calcular_area(radio)\n",
        "\n",
        "print(f\"El área del círculo es: {area:.2f}\")"
      ],
      "metadata": {
        "colab": {
          "base_uri": "https://localhost:8080/"
        },
        "id": "Ff4LnM7ys1iM",
        "outputId": "dc90baf6-e035-45bf-d1f0-e11d77819599"
      },
      "execution_count": 14,
      "outputs": [
        {
          "output_type": "stream",
          "name": "stdout",
          "text": [
            "Ingrese el radio del círculo: 25\n",
            "El área del círculo es: 1963.50\n"
          ]
        }
      ]
    },
    {
      "cell_type": "markdown",
      "source": [
        "**7. Conversión de grados Celsius a Fahrenheit: Escribe un programa que convierta una temperatura dada en grados Celsius a grados Fahrenheit.**"
      ],
      "metadata": {
        "id": "kNPU7ym1yh8H"
      }
    },
    {
      "cell_type": "code",
      "source": [],
      "metadata": {
        "id": "d8__c-3kyxoX"
      },
      "execution_count": null,
      "outputs": []
    },
    {
      "cell_type": "code",
      "source": [],
      "metadata": {
        "id": "umuXgdHxrpVv"
      },
      "execution_count": null,
      "outputs": []
    }
  ]
}